{
 "cells": [
  {
   "attachments": {},
   "cell_type": "markdown",
   "metadata": {},
   "source": [
    "# 3. Iznimke (exceptions)\n",
    "\n",
    "greške koje se mogu dogoditi mogu biti:\n",
    "\n",
    "1. Sintaksne greške - sintaksa nije u skladu s pravilima programskog jezika\n",
    "2. Semantička greška - ispravna sintaksa i logika, ali neispravan rezultat programa\n",
    "3. Logička greška - program se uredno izvršava, ali kriva logika daje neželjeni rezultat\n",
    "\n",
    "`iznimke` - pogreške otkrivene tokom izvršavanja programa (ne moraju voditi terminiranju programa, mogu se obraditi tokom izvršavanja)\n",
    "\n",
    "sve iznimke u pythonu nasljeđuju osnovni razred (klasu) `BaseException`, dok je bazni razred za iznimke koje ne uzrokuju izlaz iz programa `Exception`"
   ]
  },
  {
   "attachments": {},
   "cell_type": "markdown",
   "metadata": {},
   "source": [
    "## 3.1  Obrada iznimaka (exception handling)\n",
    "\n",
    "```\n",
    "try:\n",
    "\n",
    "    tijelo try naredbe\n",
    "    \n",
    "except:\n",
    "\n",
    "    tijelo except naredbe\n",
    "```\n",
    "\n",
    "Izvodi se kod unutar tijela naredbe try, ako se pojavi iznimka prekida se izvođenje unutar naredbe try i kreće se s izvođenjem unutar naredbe except"
   ]
  },
  {
   "cell_type": "code",
   "execution_count": 1,
   "metadata": {},
   "outputs": [
    {
     "name": "stdout",
     "output_type": "stream",
     "text": [
      "Dogodila se iznimka\n"
     ]
    }
   ],
   "source": [
    "lista = [1, 2, 3, 4]\n",
    "\n",
    "try:\n",
    "    print(lista[4])\n",
    "except:\n",
    "    print(\"Dogodila se iznimka\")"
   ]
  },
  {
   "cell_type": "code",
   "execution_count": null,
   "metadata": {},
   "outputs": [],
   "source": []
  }
 ],
 "metadata": {
  "kernelspec": {
   "display_name": "Python 3",
   "language": "python",
   "name": "python3"
  },
  "language_info": {
   "codemirror_mode": {
    "name": "ipython",
    "version": 3
   },
   "file_extension": ".py",
   "mimetype": "text/x-python",
   "name": "python",
   "nbconvert_exporter": "python",
   "pygments_lexer": "ipython3",
   "version": "3.10.9"
  },
  "orig_nbformat": 4,
  "vscode": {
   "interpreter": {
    "hash": "e7370f93d1d0cde622a1f8e1c04877d8463912d04d973331ad4851f04de6915a"
   }
  }
 },
 "nbformat": 4,
 "nbformat_minor": 2
}
