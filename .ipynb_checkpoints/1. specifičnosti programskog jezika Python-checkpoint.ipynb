{
 "cells": [
  {
   "cell_type": "markdown",
   "id": "f0535271",
   "metadata": {},
   "source": [
    "# 1. Specifičnosti programskog jezika Python"
   ]
  },
  {
   "cell_type": "markdown",
   "id": "2de3c247",
   "metadata": {},
   "source": [
    "## 1.1. lista u obrnutom poretku\n",
    "\n",
    "[::-1] na step dio kod indeksiranja koristimo -1 da naznačimo obrnuti poredak\n",
    "\n",
    "isto se može koristiti na stringu"
   ]
  },
  {
   "cell_type": "code",
   "execution_count": 1,
   "id": "c8b795e9",
   "metadata": {},
   "outputs": [
    {
     "name": "stdout",
     "output_type": "stream",
     "text": [
      "Originalna lista:  [1, 2, 5, 4, 8, 3]\n",
      "Obrnuta lista:  [3, 8, 4, 5, 2, 1]\n"
     ]
    }
   ],
   "source": [
    "lista = [1, 2, 5, 4, 8, 3]\n",
    "obrnutaLista = lista[::-1]\n",
    "\n",
    "print(\"Originalna lista: \", lista)\n",
    "print(\"Obrnuta lista: \", obrnutaLista)"
   ]
  },
  {
   "cell_type": "markdown",
   "id": "5605d639",
   "metadata": {},
   "source": [
    "## 1.2. Zamjena vrijednosti varijabli u jednoj liniji"
   ]
  },
  {
   "cell_type": "code",
   "execution_count": 2,
   "id": "498bd1b2",
   "metadata": {},
   "outputs": [
    {
     "name": "stdout",
     "output_type": "stream",
     "text": [
      "10 20\n",
      "20 10\n"
     ]
    }
   ],
   "source": [
    "a = 10\n",
    "b = 20\n",
    "print(a, b)\n",
    "\n",
    "a, b = b, a\n",
    "\n",
    "print(a, b)"
   ]
  },
  {
   "cell_type": "markdown",
   "id": "ec6dcb9f",
   "metadata": {},
   "source": [
    "Kod ovakvog načina pridjeljivanja vrijednosti varijablama u pozadini se obavlja pakiranje i raspakiravanje n-terca (engl. Tuple Packing/Unpacking)"
   ]
  },
  {
   "cell_type": "code",
   "execution_count": 3,
   "id": "904d6878",
   "metadata": {},
   "outputs": [
    {
     "name": "stdout",
     "output_type": "stream",
     "text": [
      "(1, 2)\n"
     ]
    }
   ],
   "source": [
    "# pakiranje n-terca (tuple packing)\n",
    "x = 1, 2\n",
    "print(x)"
   ]
  },
  {
   "cell_type": "code",
   "execution_count": 4,
   "id": "26184e40",
   "metadata": {},
   "outputs": [
    {
     "name": "stdout",
     "output_type": "stream",
     "text": [
      "1\n",
      "2\n"
     ]
    }
   ],
   "source": [
    "# raspakiravanje n-terca (tuple unpacking)\n",
    "a, b = x\n",
    "print(a)\n",
    "print(b)"
   ]
  },
  {
   "cell_type": "markdown",
   "id": "faf81e2a",
   "metadata": {},
   "source": [
    "## 1.3.Spremanje vrijednosti u varijable iz liste"
   ]
  },
  {
   "cell_type": "code",
   "execution_count": 1,
   "id": "255a4f4c",
   "metadata": {},
   "outputs": [
    {
     "name": "stdout",
     "output_type": "stream",
     "text": [
      "1 2 3\n"
     ]
    }
   ],
   "source": [
    "lista = [1, 2, 3]\n",
    "a, b, c = lista\n",
    "print(a, b, c)"
   ]
  },
  {
   "cell_type": "markdown",
   "id": "975390cb",
   "metadata": {},
   "source": [
    "## 1.4. Ulančani operator usporedbe\n",
    "\n",
    "Ako želimo provjeriti je li vrijednost neke varijable u intervalu [10, 20]"
   ]
  },
  {
   "cell_type": "code",
   "execution_count": 2,
   "id": "36f924c1",
   "metadata": {},
   "outputs": [
    {
     "name": "stdout",
     "output_type": "stream",
     "text": [
      "True\n"
     ]
    }
   ],
   "source": [
    "a = 14\n",
    "\n",
    "print(10 <= a <= 20)"
   ]
  },
  {
   "cell_type": "markdown",
   "id": "59241d55",
   "metadata": {},
   "source": [
    "## 1.5. Konstrukcija for else\n",
    "\n",
    "else se izvršava ako petlja for odradi posao bez prekida"
   ]
  },
  {
   "cell_type": "code",
   "execution_count": 6,
   "id": "ff24355c",
   "metadata": {},
   "outputs": [
    {
     "name": "stdout",
     "output_type": "stream",
     "text": [
      "10 nije u listi\n"
     ]
    }
   ],
   "source": [
    "lista = [1, 2, 3, 4, 5]\n",
    "\n",
    "for element in lista:\n",
    "    if element == 10:\n",
    "        print(\"10 je u listi\")\n",
    "        break\n",
    "else:\n",
    "    print(\"10 nije u listi\")"
   ]
  },
  {
   "cell_type": "markdown",
   "id": "aafc7c49",
   "metadata": {},
   "source": [
    "## 1.6. Ternarni operator"
   ]
  },
  {
   "cell_type": "code",
   "execution_count": null,
   "id": "1761490c",
   "metadata": {},
   "outputs": [],
   "source": []
  }
 ],
 "metadata": {
  "kernelspec": {
   "display_name": "Python 3",
   "language": "python",
   "name": "python3"
  },
  "language_info": {
   "codemirror_mode": {
    "name": "ipython",
    "version": 3
   },
   "file_extension": ".py",
   "mimetype": "text/x-python",
   "name": "python",
   "nbconvert_exporter": "python",
   "pygments_lexer": "ipython3",
   "version": "3.8.8"
  }
 },
 "nbformat": 4,
 "nbformat_minor": 5
}
