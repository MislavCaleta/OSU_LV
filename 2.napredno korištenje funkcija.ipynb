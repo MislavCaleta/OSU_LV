{
 "cells": [
  {
   "attachments": {},
   "cell_type": "markdown",
   "metadata": {},
   "source": [
    "# 2. Napredno koristenje funkcija"
   ]
  },
  {
   "attachments": {},
   "cell_type": "markdown",
   "metadata": {},
   "source": [
    "## 2.1 Rekurzivne funkcije\n",
    "\n",
    "funkcije koje pozivaju same sebe\n",
    "\n",
    "sastoje se od dva dijela:\n",
    "1. Osnovni slučaj - na temelju ovog slučaja funkcija završava\n",
    "2. rekurzivni poziv - funkcija se ponovno rekurzivno poziva. Sakim rekurzivnim pozivom sve je bliže osnovnom slučaju\n"
   ]
  },
  {
   "cell_type": "code",
   "execution_count": 1,
   "metadata": {},
   "outputs": [
    {
     "name": "stdout",
     "output_type": "stream",
     "text": [
      "24\n"
     ]
    }
   ],
   "source": [
    "def fact(x):\n",
    "    if x <= 1:\n",
    "        return 1\n",
    "    else:\n",
    "        return x * fact(x - 1)\n",
    "\n",
    "print(fact(4))"
   ]
  },
  {
   "attachments": {},
   "cell_type": "markdown",
   "metadata": {},
   "source": [
    "## 2.2 Bezimene funkcije\n",
    "\n",
    "anonymous ili `lambda funkcije`\n",
    "\n",
    "bezimena funkcija je objekt\n",
    "\n",
    "uvijek vraća rezultat\n",
    "\n",
    "`lambda [argumenti] : [izraz]`"
   ]
  },
  {
   "cell_type": "code",
   "execution_count": 5,
   "metadata": {},
   "outputs": [
    {
     "name": "stdout",
     "output_type": "stream",
     "text": [
      "6\n"
     ]
    }
   ],
   "source": [
    "multiply = lambda x, y : x * y\n",
    "\n",
    "print(multiply(2, 3))"
   ]
  },
  {
   "attachments": {},
   "cell_type": "markdown",
   "metadata": {},
   "source": [
    "### Složenije korištenje bezimenih funkcija\n",
    "\n",
    "korištenje bezimene funkcije kao argument u funkciji gdje se očekuje funkcija"
   ]
  },
  {
   "cell_type": "code",
   "execution_count": 7,
   "metadata": {},
   "outputs": [
    {
     "name": "stdout",
     "output_type": "stream",
     "text": [
      "[2, 4, 6, 12]\n"
     ]
    }
   ],
   "source": [
    "numbers = [1, 2, 3, 4, 5, 6, 7, 9, 13, 12]\n",
    "\n",
    "evenNumbers = filter(lambda n : n % 2 == 0, numbers)\n",
    "\n",
    "print(list(evenNumbers))"
   ]
  },
  {
   "attachments": {},
   "cell_type": "markdown",
   "metadata": {},
   "source": [
    "klasična funkcija može vratiti bezimenu funkciju budući da je ona objekt"
   ]
  },
  {
   "cell_type": "code",
   "execution_count": 8,
   "metadata": {},
   "outputs": [
    {
     "name": "stdout",
     "output_type": "stream",
     "text": [
      "8\n",
      "12\n"
     ]
    }
   ],
   "source": [
    "def mnozenje(n):\n",
    "    return lambda a : a * n\n",
    "\n",
    "mnoziS2 = mnozenje(2)\n",
    "mnoziS3 = mnozenje(3)\n",
    "\n",
    "print(mnoziS2(4))\n",
    "print(mnoziS3(4))"
   ]
  },
  {
   "attachments": {},
   "cell_type": "markdown",
   "metadata": {},
   "source": [
    "## 2.3 Ugnježdene funkcije\n",
    "\n",
    "unutarnja funkcija dohvatljiva samo iz scopea vanjske\n",
    "\n",
    "koristi se najcesce za enkapsulaciju (skrivanje nekog ponašanja od ostatka programa)"
   ]
  },
  {
   "cell_type": "code",
   "execution_count": null,
   "metadata": {},
   "outputs": [],
   "source": [
    "def vanjska(x):\n",
    "    def unutarnja(y):\n",
    "        print(y)\n",
    "    \n",
    "    unutarnja(x * 2)"
   ]
  },
  {
   "attachments": {},
   "cell_type": "markdown",
   "metadata": {},
   "source": [
    "### Memoizacija\n",
    "\n",
    "`Memoizacija` je tehnika optimizacije koja se koristi za ubrzavanje računalnih programa pohranjivanjem rezultata skupih poziva funkcija\n",
    "i vraćanjem rezultata iz predmemoriranih podataka kada se isti ulazi ponovno pojave."
   ]
  },
  {
   "cell_type": "code",
   "execution_count": 15,
   "metadata": {},
   "outputs": [
    {
     "name": "stdout",
     "output_type": "stream",
     "text": [
      "832040\n"
     ]
    }
   ],
   "source": [
    "# fibonacci bez memoizacije\n",
    "\n",
    "def fibonacci(n):\n",
    "    if n <= 1:\n",
    "        return n\n",
    "    return fibonacci(n - 1) + fibonacci(n - 2)\n",
    "\n",
    "print(fibonacci(30))"
   ]
  },
  {
   "cell_type": "code",
   "execution_count": 16,
   "metadata": {},
   "outputs": [
    {
     "name": "stdout",
     "output_type": "stream",
     "text": [
      "832040\n"
     ]
    }
   ],
   "source": [
    "# fibonacci s memoizacijom\n",
    "\n",
    "def fib(n):\n",
    "    def fibMemo(n, memo):\n",
    "        if n in memo:\n",
    "            return memo[n]\n",
    "\n",
    "        fib = fibMemo(n - 1, memo) + fibMemo(n - 2, memo)\n",
    "        memo[n] = fib\n",
    "        return fib\n",
    "    \n",
    "    memo = {1: 1, 2: 1}\n",
    "    return fibMemo(n, memo)\n",
    "\n",
    "print(fib(30))"
   ]
  },
  {
   "attachments": {},
   "cell_type": "markdown",
   "metadata": {},
   "source": [
    "## 2.4 Generatorske funkcije\n",
    "\n",
    "1. koriste ključnu riječ `yield`\n",
    "2. otpuštaju vrijednost više puta\n",
    "3. vraćaju `generator` objekt (pojednostavljeni `iterator`)\n",
    "\n",
    "- kroz vraćeni generator moguće je iterirati po njegovim elementima\n",
    "\n",
    "- moguće je pauzirati i nastaviti iteraciju\n",
    "\n",
    "- generator (kao i iterator) predstavljaju `pogled` (view) na kolekciju, ne kopira se cijela kolekcija nego se samo pristupa elementima\n",
    "\n",
    "- generator omogućava samo jedan prolaz kroz svoje elemente"
   ]
  },
  {
   "cell_type": "code",
   "execution_count": 2,
   "metadata": {},
   "outputs": [
    {
     "name": "stdout",
     "output_type": "stream",
     "text": [
      "3\n",
      "2\n",
      "1\n"
     ]
    },
    {
     "ename": "StopIteration",
     "evalue": "",
     "output_type": "error",
     "traceback": [
      "\u001b[0;31m---------------------------------------------------------------------------\u001b[0m",
      "\u001b[0;31mStopIteration\u001b[0m                             Traceback (most recent call last)",
      "Cell \u001b[0;32mIn [2], line 11\u001b[0m\n\u001b[1;32m      9\u001b[0m \u001b[39mprint\u001b[39m(\u001b[39mnext\u001b[39m(g))\n\u001b[1;32m     10\u001b[0m \u001b[39mprint\u001b[39m(\u001b[39mnext\u001b[39m(g))\n\u001b[0;32m---> 11\u001b[0m \u001b[39mprint\u001b[39m(\u001b[39mnext\u001b[39;49m(g))\n",
      "\u001b[0;31mStopIteration\u001b[0m: "
     ]
    }
   ],
   "source": [
    "def generatorska(x):\n",
    "    while x > 0:\n",
    "        yield x\n",
    "        x -= 1\n",
    "\n",
    "g = generatorska(3)\n",
    "\n",
    "print(next(g))\n",
    "print(next(g))\n",
    "print(next(g))\n",
    "print(next(g))\n",
    "\n",
    "# poziv generatorska(3) ne izvršava funkciju, već u g vraća generator\n",
    "# elemente generatora dobivamo pozivom funkcije next\n",
    "# pozivom next na generatoru izvršava se programski kod do prvog yield-a i vraća se vrijednost x\n",
    "# pamti se stanje i idućim pozivom next funkcije počinje se od prošlog yield-a i izvršava se do pojavljivanja idućeg yield-a ili funkcija završi\n",
    "# generator završetak iteracije signalizira pogreškom StopIteration"
   ]
  },
  {
   "cell_type": "code",
   "execution_count": null,
   "metadata": {},
   "outputs": [],
   "source": []
  }
 ],
 "metadata": {
  "kernelspec": {
   "display_name": "Python 3",
   "language": "python",
   "name": "python3"
  },
  "language_info": {
   "codemirror_mode": {
    "name": "ipython",
    "version": 3
   },
   "file_extension": ".py",
   "mimetype": "text/x-python",
   "name": "python",
   "nbconvert_exporter": "python",
   "pygments_lexer": "ipython3",
   "version": "3.10.9"
  },
  "orig_nbformat": 4,
  "vscode": {
   "interpreter": {
    "hash": "e7370f93d1d0cde622a1f8e1c04877d8463912d04d973331ad4851f04de6915a"
   }
  }
 },
 "nbformat": 4,
 "nbformat_minor": 2
}
